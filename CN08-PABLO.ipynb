{
 "cells": [
  {
   "cell_type": "code",
   "execution_count": 110,
   "metadata": {},
   "outputs": [
    {
     "name": "stdout",
     "output_type": "stream",
     "text": [
      "3\n",
      "[[ 2. -1.  3. 10.]\n",
      " [ 1.  3. -2.  5.]\n",
      " [ 4.  2. -3. 15.]]\n",
      "A[1,0]=1.0 e B[0,0]=2.0\n",
      "[[ 2.  -1.   3.  10. ]\n",
      " [ 0.   3.5 -3.5  0. ]\n",
      " [ 4.   2.  -3.  15. ]]\n",
      "A[2,0]=4.0 e B[0,0]=2.0\n",
      "[[ 2.  -1.   3.  10. ]\n",
      " [ 0.   3.5 -3.5  0. ]\n",
      " [ 0.   4.  -9.  -5. ]]\n",
      "A[2,1]=4.0 e B[1,1]=3.5\n",
      "[[ 2.  -1.   3.  10. ]\n",
      " [ 0.   3.5 -3.5  0. ]\n",
      " [ 0.   0.  -5.  -5. ]]\n",
      "1.0\n",
      "[4. 1. 1.]\n"
     ]
    }
   ],
   "source": [
    "import pandas as pd\n",
    "import numpy as np\n",
    "\n",
    "A = np.array([[2., -1, 3, 10],[1, 3, -2, 5],[4, 2, -3, 15]])\n",
    "n = len(A)\n",
    "print(n)\n",
    "print(A)\n",
    "\n",
    "for i in range(n-1):\n",
    "    for p in range(i,n):\n",
    "        if(A[p,i]==0):\n",
    "            aux = A[p,:]\n",
    "            A[p,:] = A[i,:]\n",
    "            A[i,:] = aux\n",
    "    for j in range(i+1,n):\n",
    "        print(f'A[{j},{i}]={A[j,i]} e B[{i},{i}]={A[i,i]}')\n",
    "        q = A[j,i]/A[i,i]\n",
    "        A[j,:] = A[j,:] - q*A[i,:]\n",
    "        print(A)\n",
    "\n",
    "#if(A[n,n] == 0):\n",
    "#    print(\"Não existe solução única\")\n",
    "\n",
    "#X = np.array([])\n",
    "\n",
    "x = A[n-1,n]/A[n-1,n-1]\n",
    "print(x)\n",
    "X = np.array([0,0,x])\n",
    "#X[0] = x\n",
    "#X = np.insert(X, len(X), x)\n",
    "\n",
    "for i in range(n):\n",
    "    m = n - i - 1\n",
    "    #soma = 0\n",
    "    #for j in range(m+1, n):\n",
    "    #    soma += A[m,j]* X[j]\n",
    "    #    print(f'soma={soma}')\n",
    "    #print(f'i={i}, m={m}, n={n}')\n",
    "    #print(f'A[m,n] = {A[m,n]}, A[m,m] = {A[m,m]}')\n",
    "    #X[m] = (A[m,n] - soma) / A[m,m]\n",
    "    X[m] = (A[m][n] - sum(A[m][k] * X[k] for k in range(m+1, n))) / A[m][m]\n",
    "    #X = np.insert(X, len(X), x)\n",
    "\n",
    "print(X)\n",
    "#(A[i,n+1] - SOMATORIO) / A[i,i]"
   ]
  },
  {
   "cell_type": "code",
   "execution_count": 13,
   "metadata": {},
   "outputs": [
    {
     "data": {
      "text/plain": [
       "15.0"
      ]
     },
     "execution_count": 13,
     "metadata": {},
     "output_type": "execute_result"
    }
   ],
   "source": [
    "E = np.array([[2.,-1,3, 10],[1,3,-2, 5],[4,2,-3,15]])\n",
    "n = len(E)\n",
    "E[n-1,n]"
   ]
  },
  {
   "cell_type": "code",
   "execution_count": 35,
   "metadata": {},
   "outputs": [
    {
     "data": {
      "text/plain": [
       "array([1., 2., 5.])"
      ]
     },
     "execution_count": 35,
     "metadata": {},
     "output_type": "execute_result"
    }
   ],
   "source": [
    "C = np.array([])\n",
    "C = np.insert(C, len(C), 1)\n",
    "C = np.insert(C, len(C), 2)\n",
    "C = np.insert(C, len(C), 5)\n",
    "C"
   ]
  },
  {
   "cell_type": "code",
   "execution_count": 100,
   "metadata": {},
   "outputs": [
    {
     "data": {
      "text/plain": [
       "-3.0"
      ]
     },
     "execution_count": 100,
     "metadata": {},
     "output_type": "execute_result"
    }
   ],
   "source": [
    "D = np.array([[2.,-1,3],[1,3,-2],[4,2,-3]])\n",
    "n = len(D)\n",
    "D[n-1,n-1]"
   ]
  },
  {
   "cell_type": "code",
   "execution_count": 106,
   "metadata": {},
   "outputs": [
    {
     "name": "stdout",
     "output_type": "stream",
     "text": [
      "0\n",
      "-3.5\n",
      "2.0\n"
     ]
    }
   ],
   "source": [
    "b2 = sum(A[2][j] * X[j] for j in range(2+1, n))\n",
    "print(b2)\n",
    "b1 = sum(A[1][j] * X[j] for j in range(1+1, n))\n",
    "print(b1)\n",
    "b0 = sum(A[0][j] * X[j] for j in range(0+1, n))\n",
    "print(b0)"
   ]
  },
  {
   "cell_type": "code",
   "execution_count": 109,
   "metadata": {},
   "outputs": [],
   "source": [
    "A = 0\n",
    "n = 0\n",
    "b = 0\n",
    "i = 0\n",
    "j = 0"
   ]
  },
  {
   "cell_type": "code",
   "execution_count": null,
   "metadata": {},
   "outputs": [],
   "source": []
  }
 ],
 "metadata": {
  "kernelspec": {
   "display_name": "Python 3",
   "language": "python",
   "name": "python3"
  },
  "language_info": {
   "codemirror_mode": {
    "name": "ipython",
    "version": 3
   },
   "file_extension": ".py",
   "mimetype": "text/x-python",
   "name": "python",
   "nbconvert_exporter": "python",
   "pygments_lexer": "ipython3",
   "version": "3.11.2"
  },
  "orig_nbformat": 4
 },
 "nbformat": 4,
 "nbformat_minor": 2
}
