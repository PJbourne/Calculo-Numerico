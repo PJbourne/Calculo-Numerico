{
 "cells": [
  {
   "cell_type": "code",
   "execution_count": 5,
   "metadata": {},
   "outputs": [],
   "source": [
    "#1\n",
    "import pandas as pd\n",
    "import numpy as np\n",
    "\n",
    "def linearSolver(A):\n",
    "    n = len(A)\n",
    "    #---------------------------inicio pivotamento----------------------\n",
    "    for i in range(n-1):\n",
    "            #-------------\n",
    "        p = i\n",
    "        #for q in range(n):\n",
    "        #    if(abs(A[q,p]) >= abs(A[0,p])):\n",
    "        #        Aux = A[0,:]\n",
    "        #        A[0,:] = A[q,:]\n",
    "        #        A[q,:] = Aux\n",
    "\n",
    "        while p<n and A[p,i]==0:\n",
    "            p = p + 1\n",
    "            if(p == n):\n",
    "                return \"NÃO EXISTE SOLUÇÃO ÚNICA\"\n",
    "            #-------------\n",
    "        if p != i:\n",
    "            aux = A[p,:]\n",
    "            A[p,:] = A[i,:]\n",
    "            A[i,:] = aux\n",
    "            #-------------\n",
    "        for j in range(i+1,n):\n",
    "            #print(f'A[{j},{i}]={A[j,i]} e B[{i},{i}]={A[i,i]}')    #-----------------------PRINT DE VERIFICAÇÃO DOS TESTES-------------------------------\n",
    "            q = A[j,i]/A[i,i]\n",
    "            A[j,:] = A[j,:] - q*A[i,:]\n",
    "            #print(A)                                               #-----------------------PRINT DE VERIFICAÇÃO DOS TESTES-------------------------------\n",
    "    #---------------------------fim pivotamento--------------------------\n",
    "    if(A[n-1][n-1]==0):\n",
    "        return \"NÃO EXISTE SOLUÇÃO ÚNICA\"\n",
    "\n",
    "    x = A[n-1,n]/A[n-1,n-1]     #primeiro coeficiente, ultima linha\n",
    "\n",
    "    X = np.empty(n)             #cria um array tamanho n vazio para armazenar os resultados\n",
    "    X[n-1] = x\n",
    "\n",
    "    for i in range(n):\n",
    "        m = n - i-1\n",
    "        X[m] = (A[m][n] - sum(A[m][k] * X[k] for k in range(m+1, n))) / A[m][m]\n",
    "    return X"
   ]
  },
  {
   "cell_type": "code",
   "execution_count": 6,
   "metadata": {},
   "outputs": [
    {
     "name": "stdout",
     "output_type": "stream",
     "text": [
      "[-227.07692308  476.92307692 -177.69230769]\n",
      "[0.41358627 1.30540797 0.60462382]\n",
      "[-0.03174603  0.5952381  -2.38095238  2.77777778]\n",
      "[ 1.91812865  1.96491228 -0.98830409 -3.19298246 -1.13450292]\n"
     ]
    }
   ],
   "source": [
    "#3\n",
    "a = np.array([[(1/4), (1/5), (1/6), 9], [(1/3), (1/4), (1/5), 8], [(1/2), 1, 2, 8]])\n",
    "b = np.array([[3.333, 15.920, -10.333, 15.913], [2.222, 16.71, 9.612, 28.544], [1.5611, 5.1791, 1.6852, 8.4254]])\n",
    "c = np.array([[(1), (1/2), (1/3), (1/4), (1/6)], [(1/2), (1/3), (1/4), (1/5), (1/7)], [(1/3), (1/4), (1/5), (1/6), (1/8)], [(1/4), (1/5), (1/6), (1/7), (1/9)]])\n",
    "d = np.array([[2., 1, -1, 1, -3, 7],[1, 0, 2, -1, 1, 2], [0, -2, -1, 1, -1, -5], [3, 1, -4, 0, 5, 6], [1, -1, -1, -1, 1, 3]])\n",
    "Matrizes = [a, b, c, d]\n",
    "\n",
    "for matrix in Matrizes:\n",
    "    result = linearSolver(matrix)\n",
    "    print(result)\n",
    "\n",
    "#a) [-226.61538462  475.38461538 -176.53846154]\n",
    "#b) [1.67672037 1.09211074 0.68343288]\n",
    "#c) [ -140.03174603  1680.5952381  -4202.38095238  2802.77777778]\n",
    "#d) [  7.5 -10.5   2.5   8.    1. ]"
   ]
  },
  {
   "cell_type": "code",
   "execution_count": null,
   "metadata": {},
   "outputs": [],
   "source": []
  }
 ],
 "metadata": {
  "kernelspec": {
   "display_name": "Python 3",
   "language": "python",
   "name": "python3"
  },
  "language_info": {
   "codemirror_mode": {
    "name": "ipython",
    "version": 3
   },
   "file_extension": ".py",
   "mimetype": "text/x-python",
   "name": "python",
   "nbconvert_exporter": "python",
   "pygments_lexer": "ipython3",
   "version": "3.11.3"
  },
  "orig_nbformat": 4
 },
 "nbformat": 4,
 "nbformat_minor": 2
}
