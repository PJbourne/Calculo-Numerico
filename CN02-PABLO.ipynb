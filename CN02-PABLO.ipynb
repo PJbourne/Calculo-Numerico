{
 "cells": [
  {
   "cell_type": "markdown",
   "metadata": {},
   "source": [
    "<img src=\"https://i.imgur.com/olPPiRS.jpg\" alt=\"Texto alternativo da imagem\" style=\"float:left; margin-right:10px;\" />\n",
    "\n",
    "<h3 style=\"margin-left:150px; margin-right:10px;\"> Instituto Federal de Educação, Ciência e Tecnologia de Minas Gerais\n",
    "Campus Ibirité<h3>\n",
    "\n",
    "<br></br>\n",
    "* Autor: Pablo Teodoro Monteiro \n",
    "> Engenharia de Controle e Automação - IFMG\n",
    ">> Cálculo Numérico\n",
    ">>> Atividade 02"
   ]
  },
  {
   "cell_type": "code",
   "execution_count": 4,
   "metadata": {},
   "outputs": [
    {
     "name": "stdout",
     "output_type": "stream",
     "text": [
      "A função f(x) = x^2 é contínua e tem uma raíz no intervalo [a,b]. Porém o Teorema do Valor Intermediário não nos permite concluir nada sobre essa função.\n",
      "Uma vez que f(a) > 0 e f(b) > 0, a função pode ou não ter raíz. Portanto é inconcluso. f(x) não concorda com o TVI, porém também não o contradiz.\n",
      "Por outro lado, de acorco com o TVI, para uma função f(x), se f(a) < 0 < f(b) ou f(a) > 0 > f(b) então a função tem pelo menos uma raíz.\n"
     ]
    }
   ],
   "source": [
    "#1 - exemplo de funcao continua com raiz no intervalo [a,b] mas f(a)*f(b) > 0.\n",
    "#Isso contraria o teorema do valor intermediário?\n",
    "\n",
    "a = -2\n",
    "b = 1.5\n",
    "\n",
    "def funcao(x):\n",
    "  y = x^2\n",
    "  return y\n",
    "\n",
    "print(\"A função f(x) = x^2 é contínua e tem uma raíz no intervalo [a,b]. Porém o Teorema do Valor Intermediário não nos permite concluir nada sobre essa função.\")\n",
    "print(\"Uma vez que f(a) > 0 e f(b) > 0, a função pode ou não ter raíz. Portanto é inconcluso. f(x) não concorda com o TVI, porém também não o contradiz.\")\n",
    "print(\"Por outro lado, de acorco com o TVI, para uma função f(x), se f(a) < 0 < f(b) ou f(a) > 0 > f(b) então a função tem pelo menos uma raíz.\")"
   ]
  },
  {
   "cell_type": "code",
   "execution_count": 2,
   "metadata": {},
   "outputs": [
    {
     "name": "stdout",
     "output_type": "stream",
     "text": [
      "7.62939453125e-06\n",
      "O método falhou a após 100 operações\n"
     ]
    }
   ],
   "source": [
    "#2 - Implementar o metodo da bisseção (passo a passo)\n",
    "\n",
    "import math\n",
    "\n",
    "# Entrada\n",
    "a = -1\n",
    "b = 5\n",
    "tol = 10**-5\n",
    "interMax = 100\n",
    "\n",
    "#funcao f(x)=x\n",
    "def f(x):\n",
    "  y = x\n",
    "  return y\n",
    "\n",
    "#passo1\n",
    "i = 1\n",
    "fa = f(a)\n",
    "\n",
    "#passo2\n",
    "while i <= interMax:\n",
    "  #passo3\n",
    "  p = (a+b)/2\n",
    "  fp = f(p)\n",
    "  #passo4\n",
    "  if abs(fp) < tol or (b-a)/2 < tol:\n",
    "    print(p)\n",
    "    break\n",
    "  #passo 5\n",
    "  i = i+1\n",
    "  #passo 6\n",
    "  if (fa * fp) > 0:\n",
    "    a = p\n",
    "    fa = fp\n",
    "  else:\n",
    "    b = p\n",
    "\n",
    "#saida\n",
    "print('O método falhou a após ' + str(interMax) + ' operações')"
   ]
  },
  {
   "cell_type": "code",
   "execution_count": 3,
   "metadata": {},
   "outputs": [
    {
     "name": "stdout",
     "output_type": "stream",
     "text": [
      "7.62939453125e-06\n",
      "2.1532974243164062\n"
     ]
    }
   ],
   "source": [
    "#3 - Justificar que a eqn. 4x - e^x = 0 tem raiz no intervalo (0,1) e no (2,3).\n",
    "#utilizar met. da bissecao p/ encontrar aprox. p/ essas raizes.\n",
    "#tolerancia = 10^-5\n",
    "#intermax = 100\n",
    "\n",
    "a = 0\n",
    "b = 1\n",
    "j = 0\n",
    "\n",
    "while j <= 1:\n",
    "  if j == 1:\n",
    "    a = 2\n",
    "    b = 3\n",
    "  i = 1\n",
    "\n",
    "  fa = f(a)\n",
    "  intermax = 100\n",
    "  tol = 10**-5\n",
    "\n",
    "  def f(x):\n",
    "    fp = 4*x - math.e**x\n",
    "    return fp\n",
    "\n",
    "  while i <= intermax:\n",
    "    p = (a+b)/2\n",
    "    fp = f(p)\n",
    "    if abs(fp) < tol or (b-a)/2 < tol:\n",
    "      print(p)\n",
    "      break\n",
    "    i = i+1\n",
    "    if fa*fp > 0:\n",
    "      a = p\n",
    "      fa = fp\n",
    "    else:\n",
    "      b = p \n",
    "  j = j+1"
   ]
  },
  {
   "cell_type": "code",
   "execution_count": 8,
   "metadata": {},
   "outputs": [
    {
     "name": "stdout",
     "output_type": "stream",
     "text": [
      "Equação 1: y = <lambda>, intervalo = (0, 1)\n",
      "  raiz = 0.641708, iterações = 16\n",
      "\n",
      "Equação 2: y = <lambda>, intervalo = (-3, 0)\n",
      "  raiz = -0.999999, iterações = 20\n",
      "\n",
      "Equação 3: y = <lambda>, intervalo = (0, 0.8)\n",
      "  raiz = 0.500000, iterações = 3\n",
      "\n",
      "Equação 4: y = <lambda>, intervalo = (0, 1)\n",
      "  raiz = 0.567139, iterações = 12\n",
      "\n",
      "Equação 5: y = <lambda>, intervalo = (0, 1)\n",
      "  raiz = 0.257530, iterações = 17\n",
      "\n",
      "Equação 6: y = <lambda>, intervalo = (-1, 0)\n",
      "  raiz = -0.824318, iterações = 17\n",
      "\n",
      "Equação 7: y = <lambda>, intervalo = (0, 0.5)\n",
      "  raiz = 0.147789, iterações = 16\n",
      "\n",
      "Note que as equações 2 e 3 são a mesma, e as equações 6 e 7 são a mesma\n"
     ]
    }
   ],
   "source": [
    "#4 - Utilize o metodo da bissecao p/ det. uma raiz das eqns. f(x) = 0 definidas\n",
    "#pelas funcoes a seguir, nos intervalos indicados.\n",
    "#intermax = 100\n",
    "#tol = 10^-5\n",
    "\n",
    "import math\n",
    "\n",
    "# define as equações com lambda\n",
    "equations = [\n",
    "    lambda x: math.sqrt(x) - math.cos(x),\n",
    "    lambda x: 3*(x + 1)*(x - 0.5)*(x - 1),\n",
    "    lambda x: 3*(x + 1)*(x - 0.5)*(x - 1),\n",
    "    lambda x: x - (math.e ** (-1 * x)),\n",
    "    lambda x: (math.e ** x) - (x**2) + (3*x) - 2,\n",
    "    lambda x: x + 0.3 - math.sin(math.pi * x),\n",
    "    lambda x: x + 0.3 - math.sin(math.pi * x)\n",
    "]\n",
    "\n",
    "# define os intervalos das equações\n",
    "intervals = [(0, 1), (-3, 0), (0,0.8), (0, 1), (0, 1), (-1, 0), (0,0.5)]\n",
    "\n",
    "# define a tolerancia e interações\n",
    "tolerance = 1e-5\n",
    "max_iterations = 100\n",
    "\n",
    "# Loop para \"array\" das equações\n",
    "for i in range(len(equations)):\n",
    "    # Pega as equações e intervalos\n",
    "    equation = equations[i]\n",
    "    interval = intervals[i]\n",
    "    \n",
    "    # printa na tela\n",
    "    print(f\"Equação {i+1}: y = {equation.__name__}, intervalo = {interval}\")\n",
    "    \n",
    "    # inicializa as variáveis do método da bisseção\n",
    "    a, b = interval\n",
    "    fa, fb = equation(a), equation(b)\n",
    "    c, fc = None, None\n",
    "    \n",
    "    # Loop do metodo da bisseção\n",
    "    for j in range(max_iterations):\n",
    "        \n",
    "        c = (a + b) / 2\n",
    "        fc = equation(c)\n",
    "        \n",
    "        # Checa se convergência foi alcançada dentro da tolerância\n",
    "        if abs(fc) < tolerance:\n",
    "            break\n",
    "        \n",
    "        # Atualiza o intervalo\n",
    "        if fa * fc < 0:\n",
    "            b, fb = c, fc\n",
    "        else:\n",
    "            a, fa = c, fc\n",
    "    \n",
    "    # printa o resultado\n",
    "    print(f\"  raiz = {c:.6f}, iterações = {j+1}\\n\")\n",
    "print(\"Note que as equações 2 e 3 são a mesma, e as equações 6 e 7 são a mesma\")\n"
   ]
  },
  {
   "cell_type": "code",
   "execution_count": 27,
   "metadata": {},
   "outputs": [
    {
     "name": "stdout",
     "output_type": "stream",
     "text": [
      "  raiz = 2.92401774, iterações = 49\n",
      "\n"
     ]
    }
   ],
   "source": [
    "#5 aproximação para cbrt(25)\n",
    "\n",
    "#definição para raíz cubica de 25\n",
    "def p(x):\n",
    "    return x**3 -25\n",
    "\n",
    "interations = 100 #num de interações\n",
    "tol = 0.0001 # tolerancia\n",
    "a = 2 #intervalo\n",
    "b = 3 #intervalo\n",
    "c = None # variavel intermediaria (valor medio do intervalo)\n",
    "fa = p(a)\n",
    "\n",
    "for j in range(interations): \n",
    "    c = (a + b) / 2\n",
    "    fc = p(c)\n",
    "    #print(f\"valor C: {c:.6f}; valor A: {a:.6f}; valor B: {b:.6f}\")\n",
    "    #print(f\"verificar se f(c) ={(abs(fc)):.6f} < 0.0001 or  b-a ={((b - a)/2):.6f} < 0.0001\")\n",
    "    # Checa se convergência foi alcançada dentro da tolerância\n",
    "    if abs(fc) < tol or (b - a)/2 < tol:\n",
    "        # printa o resultado\n",
    "        print(f\"  raiz = {c:.8f}, iterações = {j+1}\\n\")\n",
    "        break\n",
    "    else:\n",
    "        # Atualiza o intervalo\n",
    "        if fa * fc < 0:\n",
    "            b = c\n",
    "            fb = fc\n",
    "        else:\n",
    "            a = c\n",
    "            fa = fc\n",
    "if j == 99:\n",
    "    print('O método falhou a após ' + str(interations) + ' operações')"
   ]
  },
  {
   "cell_type": "code",
   "execution_count": null,
   "metadata": {},
   "outputs": [],
   "source": []
  }
 ],
 "metadata": {
  "kernelspec": {
   "display_name": "Python 3",
   "language": "python",
   "name": "python3"
  },
  "language_info": {
   "codemirror_mode": {
    "name": "ipython",
    "version": 3
   },
   "file_extension": ".py",
   "mimetype": "text/x-python",
   "name": "python",
   "nbconvert_exporter": "python",
   "pygments_lexer": "ipython3",
   "version": "3.11.2"
  },
  "orig_nbformat": 4,
  "vscode": {
   "interpreter": {
    "hash": "fe63ce0d9c5a16ce7f34f935fc8b388f4e70f777eb663b067e5283ddd74ba6cf"
   }
  }
 },
 "nbformat": 4,
 "nbformat_minor": 2
}
