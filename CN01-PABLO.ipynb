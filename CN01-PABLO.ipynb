{
 "cells": [
  {
   "cell_type": "markdown",
   "metadata": {},
   "source": [
    "<img src=\"https://i.imgur.com/olPPiRS.jpg\" alt=\"Texto alternativo da imagem\" style=\"float:left; margin-right:10px;\" />\n",
    "\n",
    "<h3 style=\"margin-left:150px; margin-right:10px;\"> Instituto Federal de Educação, Ciência e Tecnologia de Minas Gerais\n",
    "Campus Ibirité<h3>\n",
    "\n",
    "<br></br>\n",
    "* Autor: Pablo Teodoro Monteiro \n",
    "> Engenharia de Controle e Automação - IFMG\n",
    ">> Cálculo Numérico\n",
    ">>> Atividade 01"
   ]
  },
  {
   "cell_type": "code",
   "execution_count": 9,
   "metadata": {},
   "outputs": [
    {
     "name": "stdout",
     "output_type": "stream",
     "text": [
      "O erro absoluto para a) é: 1.264e-03 e o erro relativo é: 4.025e-04\n",
      "O erro absoluto para b) é: 1.593e-03 e o erro relativo é: 5.070e-04\n",
      "O erro absoluto para c) é: 2.715e+03 e o erro relativo é: 9.989e+02\n",
      "O erro absoluto para d) é: 2.647e+01 e o erro relativo é: 1.202e-03\n",
      "O erro absoluto para e) é: 1.454e+01 e o erro relativo é: 1.050e-02\n",
      "O erro absoluto para f) é: 4.200e+02 e o erro relativo é: 1.042e-02\n",
      "O erro absoluto para g) é: 3.343e+03 e o erro relativo é: 9.213e-03\n"
     ]
    }
   ],
   "source": [
    "import math\n",
    "# QUESTÃO 1\n",
    "  \n",
    "#Declaração dos Itens: a), b), c), ..., g).\n",
    "a_P = math.pi\n",
    "a_P_asterisk = 22/7\n",
    "\n",
    "b_P = math.pi\n",
    "b_P_asterisk = 3.14\n",
    "\n",
    "c_P = math.exp(1)\n",
    "c_P_asterisk = 2718\n",
    "\n",
    "d_P = math.exp(1)**10\n",
    "d_P_asterisk = 22000\n",
    "\n",
    "e_P = 10**math.pi\n",
    "e_P_asterisk = 1400\n",
    "\n",
    "f_P = math.factorial(8)\n",
    "f_P_asterisk = 39900\n",
    "\n",
    "g_P = math.factorial(9)\n",
    "g_P_asterisk = math.sqrt(18*math.pi)*(9/math.exp(1))**9\n",
    "\n",
    "#Cálculo dos erros por item\n",
    "a_abs = abs(a_P - a_P_asterisk)\n",
    "a_rel = abs(a_P - a_P_asterisk) / abs(a_P)\n",
    "\n",
    "b_abs = abs(b_P - b_P_asterisk)\n",
    "b_rel = abs(b_P - b_P_asterisk) / abs(b_P)\n",
    "\n",
    "c_abs = abs(c_P - c_P_asterisk)\n",
    "c_rel = abs(c_P - c_P_asterisk) / abs(c_P)\n",
    "\n",
    "d_abs = abs(d_P - d_P_asterisk)\n",
    "d_rel = abs(d_P - d_P_asterisk) / abs(d_P)\n",
    "\n",
    "e_abs = abs(e_P - e_P_asterisk)\n",
    "e_rel = abs(e_P - e_P_asterisk) / abs(e_P)\n",
    "\n",
    "f_abs = abs(f_P - f_P_asterisk)\n",
    "f_rel = abs(f_P - f_P_asterisk) / abs(f_P)\n",
    "\n",
    "g_abs = abs(g_P - g_P_asterisk)\n",
    "g_rel = abs(g_P - g_P_asterisk) / abs(g_P)\n",
    "\n",
    "#Print dos resultados\n",
    "print(f'O erro absoluto para a) é: {a_abs:.3e} e o erro relativo é: {a_rel:.3e}')\n",
    "print(f'O erro absoluto para b) é: {b_abs:.3e} e o erro relativo é: {b_rel:.3e}')\n",
    "print(f'O erro absoluto para c) é: {c_abs:.3e} e o erro relativo é: {c_rel:.3e}')\n",
    "print(f'O erro absoluto para d) é: {d_abs:.3e} e o erro relativo é: {d_rel:.3e}')\n",
    "print(f'O erro absoluto para e) é: {e_abs:.3e} e o erro relativo é: {e_rel:.3e}')\n",
    "print(f'O erro absoluto para f) é: {f_abs:.3e} e o erro relativo é: {f_rel:.3e}')\n",
    "print(f'O erro absoluto para g) é: {g_abs:.3e} e o erro relativo é: {g_rel:.3e}')"
   ]
  },
  {
   "cell_type": "code",
   "execution_count": 28,
   "metadata": {},
   "outputs": [
    {
     "name": "stdout",
     "output_type": "stream",
     "text": [
      "a) Valor real: 1.133333... Trunc.:1.13. Arred.:1.13. \n",
      "Erro rel. trunc.:0.000333333. Erro rel. arred.:0.000333333. \n",
      "Erro abs. trunc.:0.0294118%. Erro abs. arred.:0.0294118%\n",
      "\n",
      "b) Valor real: 0.266666... Trunc.:0.266. Arred.:0.266. \n",
      "Erro rel. trunc.:0.000266667. Erro rel. arred.:0.000266667. \n",
      "Erro abs. trunc.:0.1%. Erro abs. arred.:0.1%\n",
      "\n",
      "c) Valor real: 0.210606... Trunc.:0.211. Arred.:0.21. \n",
      "Erro rel. trunc.:0.000393939. Erro rel. arred.:0.000606061. \n",
      "Erro abs. trunc.:0.18705%. Erro abs. arred.:0.28777%\n",
      "\n",
      "d) Valor real: 0.456060... Trunc.:0.455. Arred.:0.456. \n",
      "Erro rel. trunc.:0.00106061. Erro rel. arred.:6.06061e-05. \n",
      "Erro abs. trunc.:0.232558%. Erro abs. arred.:0.013289%\n",
      "\n",
      "e) Valor real: 133.921     Trunc.:1.33e+02. Arred.:1.34e+02. \n",
      "Erro rel. trunc.:0.921. Erro rel. arred.:0.079. \n",
      "Erro abs. trunc.:0.687719%. Erro abs. arred.:0.05899%\n"
     ]
    }
   ],
   "source": [
    "# QUESTÃO 2\n",
    "\n",
    "# Usando NUMPY declara um vetor para cada questão\n",
    "# com as seguintes indexações:\n",
    "# 1-trucamento ; 2-arredondamento ; 3- erro relat trunc; \n",
    "# 4-erro relat arred; 5-erro absol trunc; 6-erro absol arred; \n",
    "import numpy as np\n",
    "a = np.empty(7)\n",
    "b = np.empty(7)\n",
    "c = np.empty(7)\n",
    "d = np.empty(7)\n",
    "e = np.empty(7)\n",
    "#truncado                       #resposta real:\n",
    "a[0] = 0.800 + 0.333            # 1.133333...\n",
    "b[0] = 0.800 * 0.333            # 0.266666...\n",
    "c[0] = (0.333 - 0.272) + 0.15   # 0.210606...\n",
    "d[0] = (0.333 + 0.272) - 0.15   # 0.456060...\n",
    "e[0] = 133.0              # 133.921\n",
    "#arredondado\n",
    "a[1] = 0.800 + 0.333\n",
    "b[1] = 0.800 * 0.333\n",
    "c[1] = (0.333 - 0.273) + 0.15\n",
    "d[1] = (0.333 + 0.273) - 0.15\n",
    "e[1] = 134\n",
    "#erro relativo para truncamento\n",
    "a[2] = abs( (4/5)+(1/3) - a[0])\n",
    "b[2] = abs( (4/5)*(1/3) - b[0])\n",
    "c[2] = abs( (((1/3)-(3/11)) + (3/20)) - c[0])\n",
    "d[2] = abs( (((1/3)+(3/11)) - (3/20)) - d[0])\n",
    "e[2] = abs( (133 + 0.921) - e[0])\n",
    "#erro relativo para arredondamento\n",
    "a[3] = abs( (4/5)+(1/3) - a[1])\n",
    "b[3] = abs( (4/5)*(1/3) - b[1])\n",
    "c[3] = abs( (((1/3)-(3/11)) + (3/20)) - c[1])\n",
    "d[3] = abs( (((1/3)+(3/11)) - (3/20)) - d[1])\n",
    "e[3] = abs( (133 + 0.921) - e[1])\n",
    "#erro absoluto para truncamento\n",
    "a[4] = abs( ((4/5)+(1/3) - a[0]) / ((4/5)+(1/3)))\n",
    "b[4] = abs( ((4/5)*(1/3) - b[0]) / ((4/5)*(1/3)))\n",
    "c[4] = abs( ((((1/3)-(3/11)) + (3/20)) - c[0]) / (((1/3)-(3/11)) + (3/20)) )\n",
    "d[4] = abs( ((((1/3)+(3/11)) - (3/20)) - d[0]) / (((1/3)+(3/11)) - (3/20)) )\n",
    "e[4] = abs( ((133 + 0.921) - e[0]) / ((133 + 0.921)) )\n",
    "#erro absoluto para arredondamento\n",
    "a[5] = abs( (4/5)+(1/3) - a[1]) / ((4/5)+(1/3))\n",
    "b[5] = abs( (4/5)*(1/3) - b[1]) / ((4/5)*(1/3))\n",
    "c[5] = abs( (((1/3)-(3/11)) + (3/20)) - c[1]) / ((((1/3)-(3/11)) + (3/20)))\n",
    "d[5] = abs( (((1/3)+(3/11)) - (3/20)) - d[1]) / ((((1/3)+(3/11)) - (3/20)))\n",
    "e[5] = abs( (133 + 0.921) - e[1]) / ((133 + 0.921))\n",
    "\n",
    "print(f'a) Valor real: 1.133333... Trunc.:{a[0]:.3}. Arred.:{a[1]:.3}. \\nErro rel. trunc.:{a[2]:.6}. Erro rel. arred.:{a[3]:.6}. \\nErro abs. trunc.:{(a[4]*100):.6}%. Erro abs. arred.:{(a[5]*100):.6}%')\n",
    "print(f'\\nb) Valor real: 0.266666... Trunc.:{b[0]:.3}. Arred.:{b[1]:.3}. \\nErro rel. trunc.:{b[2]:.6}. Erro rel. arred.:{b[3]:.6}. \\nErro abs. trunc.:{(b[4]*100):.6}%. Erro abs. arred.:{(b[5]*100):.6}%')\n",
    "print(f'\\nc) Valor real: 0.210606... Trunc.:{c[0]:.3}. Arred.:{c[1]:.3}. \\nErro rel. trunc.:{c[2]:.6}. Erro rel. arred.:{c[3]:.6}. \\nErro abs. trunc.:{(c[4]*100):.6}%. Erro abs. arred.:{(c[5]*100):.6}%')\n",
    "print(f'\\nd) Valor real: 0.456060... Trunc.:{d[0]:.3}. Arred.:{d[1]:.3}. \\nErro rel. trunc.:{d[2]:.6}. Erro rel. arred.:{d[3]:.6}. \\nErro abs. trunc.:{(d[4]*100):.6}%. Erro abs. arred.:{(d[5]*100):.6}%')\n",
    "print(f'\\ne) Valor real: 133.921     Trunc.:{e[0]:.3}. Arred.:{e[1]:.3}. \\nErro rel. trunc.:{e[2]:.6}. Erro rel. arred.:{e[3]:.6}. \\nErro abs. trunc.:{(e[4]*100):.6}%. Erro abs. arred.:{(e[5]*100):.6}%')"
   ]
  },
  {
   "cell_type": "code",
   "execution_count": 31,
   "metadata": {},
   "outputs": [
    {
     "name": "stdout",
     "output_type": "stream",
     "text": [
      "Valor real: 2.718281828459045\n",
      "\n",
      "Valor: 2.70833. \n",
      "Erro rel.: 0.0099485. Erro abs.: 0.36598468273437684%\n",
      "\n",
      "Valor: 2.71828. \n",
      "Erro rel.: 3.02886e-07. Erro abs.: 1.1142547828265698e-05%\n"
     ]
    }
   ],
   "source": [
    "# QUESTÃO 3\n",
    "\n",
    "#função que executa um somatório da função \"(1/math.factorial(k))\"\n",
    "# de 1 até valor de k\n",
    "def aprox(k):\n",
    "    return sum( (1/math.factorial(k)) for k in range(k))\n",
    "\n",
    "result1 = aprox(5)\n",
    "result2 = aprox(10)\n",
    "\n",
    "print(f'Valor real: {math.e}')\n",
    "print(f'\\nValor: {result1:.6}. \\nErro rel.: {(math.e - result1):.6}. Erro abs.: {((math.e - result1)/math.e)*100}%')\n",
    "print(f'\\nValor: {result2:.6}. \\nErro rel.: {(math.e - result2):.6}. Erro abs.: {((math.e - result2)/math.e)*100}%')"
   ]
  },
  {
   "cell_type": "code",
   "execution_count": null,
   "metadata": {},
   "outputs": [],
   "source": []
  }
 ],
 "metadata": {
  "kernelspec": {
   "display_name": "Python 3.8.10 64-bit (microsoft store)",
   "language": "python",
   "name": "python3"
  },
  "language_info": {
   "codemirror_mode": {
    "name": "ipython",
    "version": 3
   },
   "file_extension": ".py",
   "mimetype": "text/x-python",
   "name": "python",
   "nbconvert_exporter": "python",
   "pygments_lexer": "ipython3",
   "version": "3.8.10"
  },
  "orig_nbformat": 4,
  "vscode": {
   "interpreter": {
    "hash": "e878f5ea1dc6537e8881c059c49c03feae4eb79102da35a3d988dd0c2658183e"
   }
  }
 },
 "nbformat": 4,
 "nbformat_minor": 2
}
