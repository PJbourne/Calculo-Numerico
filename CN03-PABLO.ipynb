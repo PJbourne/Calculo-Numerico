{
 "cells": [
  {
   "cell_type": "markdown",
   "metadata": {},
   "source": [
    "<img src=\"https://i.imgur.com/olPPiRS.jpg\" alt=\"Texto alternativo da imagem\" style=\"float:left; margin-right:10px;\" />\n",
    "\n",
    "<h3 style=\"margin-left:150px; margin-right:10px;\"> Instituto Federal de Educação, Ciência e Tecnologia de Minas Gerais\n",
    "Campus Ibirité<h3>\n",
    "\n",
    "<br></br>\n",
    "* Autor: Pablo Teodoro Monteiro \n",
    "> Engenharia de Controle e Automação - IFMG\n",
    ">> Cálculo Numérico\n",
    ">>> Atividade 03"
   ]
  },
  {
   "cell_type": "markdown",
   "metadata": {},
   "source": [
    "# Questão 1: \n",
    "Desenvolvimento das equações escritos em markdown\n",
    "\n",
    "expr1 = r\"\"\"\\textbf{Manipulação da} \\emph{equação} 1:\n",
    "    $$g(x) =  {( 3 + x - 2 x^{2} )} ^ {(\\frac{1}{4})}$$\n",
    "    $$x =  {( 3 + x - 2 x^{2} )} ^ {(\\frac{1}{4})}$$\n",
    "    $$x ^ 4 =  {( 3 + x - 2 x^{2} )}$$\n",
    "    $$- 3 - x + 2 x^{2} + x ^ 4 = 0$$\n",
    "    $$x^4 + 2x^2 - x - 3 = 0$$\n",
    "    \"\"\"\n",
    "\n",
    "expr2 = r\"\"\"\\textbf{Manipulação da} \\emph{equação} 2:\n",
    "    $$g(x) = {(\\frac {(x + 3)}{(x^2 + 2)})} ^ {(\\frac{1}{2})}$$\n",
    "    $$x = {(\\frac {(x + 3)}{(x^2 + 2)})} ^ {(\\frac{1}{2})}$$\n",
    "    $$x^2 = {(\\frac {(x + 3)}{(x^2 + 2)})}$$\n",
    "    $$x^2 (x^2 + 2) = (x + 3)$$\n",
    "    $$x^4 + 2x^2 = (x + 3)$$\n",
    "    $$x^4 + 2x^2 - x - 3 = 0$$\n",
    "    \"\"\"\n",
    "\n",
    "expr3 = r\"\"\"\\textbf{Manipulação da} \\emph{equação} 3:\n",
    "    $$g(x) = {(\\frac {(x+3-x^4)}{2})} ^ {(\\frac{1}{2})}$$\n",
    "    $$x = {(\\frac {(x+3-x^4)}{2})} ^ {(\\frac{1}{2})}$$\n",
    "    $$x^2 = {(\\frac {(x+3-x^4)}{2})}$$\n",
    "    $$2x^2 = (x+3-x^4)$$\n",
    "    $$x^4 + 2x^2 - x - 3 = 0$$\n",
    "    \"\"\""
   ]
  },
  {
   "cell_type": "code",
   "execution_count": 35,
   "metadata": {},
   "outputs": [
    {
     "name": "stdout",
     "output_type": "stream",
     "text": [
      "P da equação 1 = 1.12412; interação número: 24; erro = -8.62e-06\n",
      "P da equação 2 = 1.12412; interação número: 9; erro = 7.92e-06\n",
      "O método falhou após 100 interações para a equação 3.\n"
     ]
    }
   ],
   "source": [
    "#2 - Fazer 10 interações (invez de 4) usando p0 = 1\n",
    "\n",
    "eqn = [\n",
    "    lambda x: m.pow((3 + x - (2 * (x**2))),(1/4)),\n",
    "    lambda x: m.sqrt((x + 3)/(x**2 + 2)),\n",
    "    lambda x: m.sqrt((x + 3 - (x**4))/2),\n",
    "]\n",
    "\n",
    "p0 = 0\n",
    "#Loop para executar o método para cada uma das 3 equações\n",
    "for j in range(len(eqn)):\n",
    "    p = 0\n",
    "    tol = 0.00001\n",
    "    intermax = 100\n",
    "    #Função que executa o método\n",
    "    def interativo(p0,p,j,tol,intermax): #p0 é o valor inicial e j é var de interações para percorrer eqn[]\n",
    "        i = 1\n",
    "        #inicio loop interativo do método\n",
    "        while i <= intermax:\n",
    "            p = eqn[j](p0)\n",
    "            if abs(p - p0) < tol:\n",
    "                print(f'P da equação {j+1} = {p:.6}; interação número: {i}; erro = {(p-p0):.3}')\n",
    "                return\n",
    "            p0 = p\n",
    "            i = i+1\n",
    "        #Final do loop interativo do método\n",
    "        #Se sair do while pela sua condicional, falhou após intermax interações\n",
    "        print(f'O método falhou após {intermax} interações para a equação {j+1}.')\n",
    "    #Chamada da função dentro da interação que percorre o array eqn[]\n",
    "    interativo(p0,p,j,tol,intermax)\n",
    "\n",
    "    #eqn[1](1.12412)"
   ]
  },
  {
   "cell_type": "code",
   "execution_count": 8,
   "metadata": {},
   "outputs": [
    {
     "name": "stdout",
     "output_type": "stream",
     "text": [
      "P da equação 1 = 2.75887; interação número: 61; erro = 8.97e-06\n",
      "P da equação 2 = 0.0; interação número: 2; erro = 0.0\n",
      "P da equação 3 = 2.75892; interação número: 8; erro = -5.02e-09\n",
      "P da equação 4 = 2.75892; interação número: 20; erro = -8.01e-06\n"
     ]
    }
   ],
   "source": [
    "#3 -\n",
    "#expressoes para calculo de cbrt(21) utilizando interação com p0 = 1\n",
    "\n",
    "funcao = [\n",
    "    lambda x: (20 * x + (21 / x**2)) / 21,\n",
    "    lambda x: x - (x**4 - 21 * x) / (x**2 - 21),\n",
    "    lambda x: x - (x**3 - 21) / (3 * x**2),\n",
    "    lambda x: m.sqrt( 21 / x)\n",
    "]\n",
    "\n",
    "p0 = 1\n",
    "#Loop para executar o método para cada uma das 3 equações\n",
    "for j in range(len(funcao)):\n",
    "    p = 1\n",
    "    tol = 0.00001\n",
    "    intermax = 100\n",
    "    #Função que executa o método\n",
    "    def interativo(p0,p,j,tol,intermax): #p0 é o valor inicial e j é var de interações para percorrer eqn[]\n",
    "        i = 1\n",
    "        #inicio loop interativo do método\n",
    "        while i <= intermax:\n",
    "            p = funcao[j](p0)\n",
    "            if abs(p - p0) < tol:\n",
    "                print(f'P da equação {j+1} = {p:.6}; interação número: {i}; erro = {(p-p0):.3}')\n",
    "                return\n",
    "            p0 = p\n",
    "            i = i+1\n",
    "        #Final do loop interativo do método\n",
    "        #Se sair do while pela sua condicional, falhou após intermax interações\n",
    "        print(f'O método falhou após {intermax} interações para a equação {j+1}.')\n",
    "    #Chamada da função dentro da interação que percorre o array eqn[]\n",
    "    interativo(p0,p,j,tol,intermax)\n",
    "\n",
    "    #eqn[1](1.12412)"
   ]
  },
  {
   "cell_type": "code",
   "execution_count": null,
   "metadata": {},
   "outputs": [],
   "source": []
  }
 ],
 "metadata": {
  "kernelspec": {
   "display_name": "Python 3.8.10 64-bit (microsoft store)",
   "language": "python",
   "name": "python3"
  },
  "language_info": {
   "codemirror_mode": {
    "name": "ipython",
    "version": 3
   },
   "file_extension": ".py",
   "mimetype": "text/x-python",
   "name": "python",
   "nbconvert_exporter": "python",
   "pygments_lexer": "ipython3",
   "version": "3.8.10"
  },
  "orig_nbformat": 4,
  "vscode": {
   "interpreter": {
    "hash": "e878f5ea1dc6537e8881c059c49c03feae4eb79102da35a3d988dd0c2658183e"
   }
  }
 },
 "nbformat": 4,
 "nbformat_minor": 2
}
