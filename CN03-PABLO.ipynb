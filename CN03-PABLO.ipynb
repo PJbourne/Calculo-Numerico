{
 "cells": [
  {
   "cell_type": "code",
   "execution_count": 2,
   "metadata": {},
   "outputs": [
    {
     "name": "stdout",
     "output_type": "stream",
     "text": [
      "Manipulação da equação 1:\n",
      "    \n",
      "    g(x) =  ( 3 + x - 2 x^2 ) ^ (1/4)\n",
      "    x =  ( 3 + x - 2 x^2 ) ^ (1/4)\n",
      "    x ^ 4 =  ( 3 + x - 2 x^2 )\n",
      "    - 3 - x + 2 x^2 + x ^ 4 = 0\n",
      "    x^4 + 2x^2 - x - 3 = 0\n",
      "    \n",
      "    \n",
      "Manipulação da equação 2:\n",
      "    \n",
      "    g(x) = ((x + 3)/(x^2 + 2)) ^ (1/2)\n",
      "    x = ((x + 3)/(x^2 + 2)) ^ (1/2)\n",
      "    x^2 = ((x + 3)/(x^2 + 2))\n",
      "    x^2 (x^2 + 2) = (x + 3)\n",
      "    x^4 + 2x^2 = (x + 3)\n",
      "    x^4 + 2x^2 - x - 3 = 0\n",
      "    \n",
      "    \n",
      "Manipulação da equação 3:\n",
      "    \n",
      "    g(x) = ((x+3-x^4)/2) ^ (1/2)\n",
      "    x = ((x+3-x^4)/2) ^ (1/2)\n",
      "    x^2 = ((x+3-x^4)/2)\n",
      "    2x^2 = (x+3-x^4)\n",
      "    x^4 + 2x^2 - x - 3 = 0)\n",
      "    \n",
      "    \n"
     ]
    }
   ],
   "source": [
    "#1 - Escrever em markdown\n",
    "import math as m\n",
    "from pylatexenc.latex2text import LatexNodes2Text\n",
    "\n",
    "expr1 = r\"\"\"\\textbf{Manipulação da} \\emph{equação} 1:\n",
    "    \\begin{equação}\n",
    "    g(x) =  {( 3 + x - 2 x^{2} )} ^ {(\\frac{1}{4})}\n",
    "    x =  {( 3 + x - 2 x^{2} )} ^ {(\\frac{1}{4})}\n",
    "    x ^ 4 =  {( 3 + x - 2 x^{2} )}\n",
    "    {- 3 - x + 2 x^{2} + x ^ 4} = 0\n",
    "    x^4 + 2x^2 - x - 3 = 0\n",
    "    \\end{equação}\n",
    "    \"\"\"\n",
    "\n",
    "expr3 = r\"\"\"\\textbf{Manipulação da} \\emph{equação} 3:\n",
    "    \\begin{equação}\n",
    "    g(x) = {(\\frac {(x+3-x^4)}{2})} ^ {(\\frac{1}{2})}\n",
    "    x = {(\\frac {(x+3-x^4)}{2})} ^ {(\\frac{1}{2})}\n",
    "    x^2 = {(\\frac {(x+3-x^4)}{2})}\n",
    "    2x^2 = (x+3-x^4)\n",
    "    x^4 + 2x^2 - x - 3 = 0)\n",
    "    \\end{equação}\n",
    "    \"\"\"\n",
    "\n",
    "expr2 = r\"\"\"\\textbf{Manipulação da} \\emph{equação} 2:\n",
    "    \\begin{equação}\n",
    "    g(x) = {(\\frac {(x + 3)}{(x^2 + 2)})} ^ {(\\frac{1}{2})}\n",
    "    x = {(\\frac {(x + 3)}{(x^2 + 2)})} ^ {(\\frac{1}{2})}\n",
    "    x^2 = {(\\frac {(x + 3)}{(x^2 + 2)})}\n",
    "    x^2 (x^2 + 2) = (x + 3)\n",
    "    x^4 + 2x^2 = (x + 3)\n",
    "    x^4 + 2x^2 - x - 3 = 0\n",
    "    \\end{equação}\n",
    "    \"\"\"\n",
    "print(LatexNodes2Text().latex_to_text(expr1))\n",
    "print(LatexNodes2Text().latex_to_text(expr2))\n",
    "print(LatexNodes2Text().latex_to_text(expr3))"
   ]
  },
  {
   "cell_type": "code",
   "execution_count": 35,
   "metadata": {},
   "outputs": [
    {
     "name": "stdout",
     "output_type": "stream",
     "text": [
      "P da equação 1 = 1.12412; interação número: 24; erro = -8.62e-06\n",
      "P da equação 2 = 1.12412; interação número: 9; erro = 7.92e-06\n",
      "O método falhou após 100 interações para a equação 3.\n"
     ]
    }
   ],
   "source": [
    "#2 - Fazer 10 interações (invez de 4) usando p0 = 1\n",
    "eqn = [\n",
    "    lambda x: m.pow((3 + x - (2 * (x**2))),(1/4)),\n",
    "    lambda x: m.sqrt((x + 3)/(x**2 + 2)),\n",
    "    lambda x: m.sqrt((x + 3 - (x**4))/2),\n",
    "]\n",
    "\n",
    "p0 = 0\n",
    "#Loop para executar o método para cada uma das 3 equações\n",
    "for j in range(len(eqn)):\n",
    "    p = 0\n",
    "    tol = 0.00001\n",
    "    intermax = 100\n",
    "    #Função que executa o método\n",
    "    def interativo(p0,p,j,tol,intermax): #p0 é o valor inicial e j é var de interações para percorrer eqn[]\n",
    "        i = 1\n",
    "        #inicio loop interativo do método\n",
    "        while i <= intermax:\n",
    "            p = eqn[j](p0)\n",
    "            if abs(p - p0) < tol:\n",
    "                print(f'P da equação {j+1} = {p:.6}; interação número: {i}; erro = {(p-p0):.3}')\n",
    "                return\n",
    "            p0 = p\n",
    "            i = i+1\n",
    "        #Final do loop interativo do método\n",
    "        #Se sair do while pela sua condicional, falhou após intermax interações\n",
    "        print(f'O método falhou após {intermax} interações para a equação {j+1}.')\n",
    "    #Chamada da função dentro da interação que percorre o array eqn[]\n",
    "    interativo(p0,p,j,tol,intermax)\n",
    "\n",
    "    #eqn[1](1.12412)"
   ]
  },
  {
   "cell_type": "code",
   "execution_count": 8,
   "metadata": {},
   "outputs": [
    {
     "name": "stdout",
     "output_type": "stream",
     "text": [
      "P da equação 1 = 2.75887; interação número: 61; erro = 8.97e-06\n",
      "P da equação 2 = 0.0; interação número: 2; erro = 0.0\n",
      "P da equação 3 = 2.75892; interação número: 8; erro = -5.02e-09\n",
      "P da equação 4 = 2.75892; interação número: 20; erro = -8.01e-06\n"
     ]
    }
   ],
   "source": [
    "#3 -\n",
    "#expressoes para calculo de cbrt(21) utilizando interação com p0 = 1\n",
    "\n",
    "funcao = [\n",
    "    lambda x: (20 * x + (21 / x**2)) / 21,\n",
    "    lambda x: x - (x**4 - 21 * x) / (x**2 - 21),\n",
    "    lambda x: x - (x**3 - 21) / (3 * x**2),\n",
    "    lambda x: m.sqrt( 21 / x)\n",
    "]\n",
    "\n",
    "p0 = 1\n",
    "#Loop para executar o método para cada uma das 3 equações\n",
    "for j in range(len(funcao)):\n",
    "    p = 1\n",
    "    tol = 0.00001\n",
    "    intermax = 100\n",
    "    #Função que executa o método\n",
    "    def interativo(p0,p,j,tol,intermax): #p0 é o valor inicial e j é var de interações para percorrer eqn[]\n",
    "        i = 1\n",
    "        #inicio loop interativo do método\n",
    "        while i <= intermax:\n",
    "            p = funcao[j](p0)\n",
    "            if abs(p - p0) < tol:\n",
    "                print(f'P da equação {j+1} = {p:.6}; interação número: {i}; erro = {(p-p0):.3}')\n",
    "                return\n",
    "            p0 = p\n",
    "            i = i+1\n",
    "        #Final do loop interativo do método\n",
    "        #Se sair do while pela sua condicional, falhou após intermax interações\n",
    "        print(f'O método falhou após {intermax} interações para a equação {j+1}.')\n",
    "    #Chamada da função dentro da interação que percorre o array eqn[]\n",
    "    interativo(p0,p,j,tol,intermax)\n",
    "\n",
    "    #eqn[1](1.12412)"
   ]
  },
  {
   "cell_type": "code",
   "execution_count": null,
   "metadata": {},
   "outputs": [
    {
     "name": "stdout",
     "output_type": "stream",
     "text": [
      "Equação 1: y = <lambda>, intervalo = (0, 1)\n",
      "  raiz = 0.641708, iterações = 16\n",
      "\n",
      "Equação 2: y = <lambda>, intervalo = (-3, 0)\n",
      "  raiz = -0.999999, iterações = 20\n",
      "\n",
      "Equação 3: y = <lambda>, intervalo = (0, 1)\n",
      "  raiz = 0.567139, iterações = 12\n",
      "\n",
      "Equação 4: y = <lambda>, intervalo = (0, 1)\n",
      "  raiz = 0.257530, iterações = 17\n",
      "\n",
      "Equação 5: y = <lambda>, intervalo = (-1, 0)\n",
      "  raiz = -0.824318, iterações = 17\n",
      "\n"
     ]
    }
   ],
   "source": [
    "#4 - "
   ]
  },
  {
   "cell_type": "code",
   "execution_count": null,
   "metadata": {},
   "outputs": [],
   "source": []
  }
 ],
 "metadata": {
  "kernelspec": {
   "display_name": "Python 3",
   "language": "python",
   "name": "python3"
  },
  "language_info": {
   "codemirror_mode": {
    "name": "ipython",
    "version": 3
   },
   "file_extension": ".py",
   "mimetype": "text/x-python",
   "name": "python",
   "nbconvert_exporter": "python",
   "pygments_lexer": "ipython3",
   "version": "3.11.2"
  },
  "orig_nbformat": 4,
  "vscode": {
   "interpreter": {
    "hash": "fe63ce0d9c5a16ce7f34f935fc8b388f4e70f777eb663b067e5283ddd74ba6cf"
   }
  }
 },
 "nbformat": 4,
 "nbformat_minor": 2
}
