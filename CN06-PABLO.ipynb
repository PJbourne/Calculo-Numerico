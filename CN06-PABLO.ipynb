{
 "cells": [
  {
   "cell_type": "code",
   "execution_count": null,
   "metadata": {},
   "outputs": [],
   "source": []
  }
 ],
 "metadata": {
  "kernelspec": {
   "display_name": "Python 3.10.11 64-bit (microsoft store)",
   "language": "python",
   "name": "python3"
  },
  "language_info": {
   "name": "python",
   "version": "3.10.11"
  },
  "orig_nbformat": 4,
  "vscode": {
   "interpreter": {
    "hash": "89333e45d0e1d0cdf630e10dcc5e3b3bd77b4db2b58b2a9fb753e6048aadc5dd"
   }
  }
 },
 "nbformat": 4,
 "nbformat_minor": 2
}
