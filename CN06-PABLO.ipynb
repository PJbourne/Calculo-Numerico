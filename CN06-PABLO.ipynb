{
 "cells": [
  {
<<<<<<< HEAD
   "attachments": {},
   "cell_type": "markdown",
   "metadata": {},
   "source": []
  },
  {
   "cell_type": "code",
   "execution_count": null,
   "metadata": {},
   "outputs": [],
   "source": [
    "x = [0,1,2,3]\n",
    "y = [1,2,3,4]\n",
    "n = len(x)\n",
    "\n",
    "def interpolacao(x, y, n):\n",
    "    r = 0\n",
    "    for i in range(n):\n",
    "        c = 1\n",
    "        d = 1\n",
    "        for j in range(m):\n",
    "            if i != j:\n",
    "                c = c*(z - x[j])\n",
    "                d = d*(x[i] - x[j])\n",
    "        r = r + y[i] * c / d"
   ]
  },
  {
   "cell_type": "code",
   "execution_count": null,
   "metadata": {},
   "outputs": [],
   "source": [
    "def lagrange_interpolation(x_values, y_values, x):\n",
    "    \"\"\"\n",
    "    Realiza a interpolação de Lagrange para encontrar o valor de y para um determinado x.\n",
    "    \n",
    "    Argumentos:\n",
    "    x_values -- uma lista de valores x conhecidos\n",
    "    y_values -- uma lista de valores y conhecidos correspondentes aos valores x\n",
    "    x -- o valor de x para o qual queremos encontrar o valor interpolado de y\n",
    "    \n",
    "    Retorna:\n",
    "    O valor interpolado de y correspondente ao valor x fornecido.\n",
    "    \"\"\"\n",
    "    n = len(x_values)\n",
    "    y = 0\n",
    "    \n",
    "    for i in range(n):\n",
    "        # Calcula o coeficiente de Lagrange para o i-ésimo termo\n",
    "        l = 1\n",
    "        for j in range(n):\n",
    "            if i != j:\n",
    "                l *= (x - x_values[j]) / (x_values[i] - x_values[j])\n",
    "        \n",
    "        # Adiciona o i-ésimo termo ao valor interpolado de y\n",
    "        y += y_values[i] * l\n",
    "    \n",
    "    return y"
   ]
=======
   "cell_type": "code",
   "execution_count": null,
   "metadata": {},
   "outputs": [],
   "source": []
>>>>>>> 6c651c2adafbddc741df2b34e5200627ac96d421
  }
 ],
 "metadata": {
  "kernelspec": {
<<<<<<< HEAD
   "display_name": "Python 3",
=======
   "display_name": "Python 3.10.11 64-bit (microsoft store)",
>>>>>>> 6c651c2adafbddc741df2b34e5200627ac96d421
   "language": "python",
   "name": "python3"
  },
  "language_info": {
   "name": "python",
<<<<<<< HEAD
   "version": "3.11.2"
  },
  "orig_nbformat": 4
=======
   "version": "3.10.11"
  },
  "orig_nbformat": 4,
  "vscode": {
   "interpreter": {
    "hash": "89333e45d0e1d0cdf630e10dcc5e3b3bd77b4db2b58b2a9fb753e6048aadc5dd"
   }
  }
>>>>>>> 6c651c2adafbddc741df2b34e5200627ac96d421
 },
 "nbformat": 4,
 "nbformat_minor": 2
}
