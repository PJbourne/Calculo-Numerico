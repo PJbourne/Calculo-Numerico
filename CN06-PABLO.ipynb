{
 "cells": [
  {
   "attachments": {},
   "cell_type": "markdown",
   "metadata": {},
   "source": [
    "Atv 06 - Interpolação Polinmial"
   ]
  },
  {
   "cell_type": "code",
   "execution_count": 11,
   "metadata": {},
   "outputs": [],
   "source": [
    "def interpolLagrange(x, y, n, z):\n",
    "    r = 0\n",
    "    for i in range(n):\n",
    "        c = 1\n",
    "        d = 1\n",
    "        for j in range(n):\n",
    "            if(i != j):\n",
    "                c = c*(z - x[j])\n",
    "                d = d*(x[i] - x[j])\n",
    "        r = r + y[i] * (c / d)\n",
    "    return r"
   ]
  },
  {
   "cell_type": "code",
   "execution_count": 12,
   "metadata": {},
   "outputs": [],
   "source": [
    "import math as m\n",
    "n = 5\n",
    "z = 6\n",
    "\n",
    "x = [0, 1, 2, 3, 4]\n",
    "y = [1, 2, 3, 4, 5]\n",
    "\n",
    "A = interpolLagrange(x, y, n, z)"
   ]
  },
  {
   "cell_type": "code",
   "execution_count": 13,
   "metadata": {},
   "outputs": [
    {
     "data": {
      "text/plain": [
       "7.0"
      ]
     },
     "execution_count": 13,
     "metadata": {},
     "output_type": "execute_result"
    }
   ],
   "source": [
    "A"
   ]
  },
  {
   "cell_type": "code",
   "execution_count": null,
   "metadata": {},
   "outputs": [],
   "source": []
  }
 ],
 "metadata": {
  "kernelspec": {
   "display_name": "Python 3.10.11 64-bit (microsoft store)",
   "language": "python",
   "name": "python3"
  },
  "language_info": {
   "codemirror_mode": {
    "name": "ipython",
    "version": 3
   },
   "file_extension": ".py",
   "mimetype": "text/x-python",
   "name": "python",
   "nbconvert_exporter": "python",
   "pygments_lexer": "ipython3",
   "version": "3.11.2"
  },
  "orig_nbformat": 4,
  "vscode": {
   "interpreter": {
    "hash": "89333e45d0e1d0cdf630e10dcc5e3b3bd77b4db2b58b2a9fb753e6048aadc5dd"
   }
  }
 },
 "nbformat": 4,
 "nbformat_minor": 2
}
