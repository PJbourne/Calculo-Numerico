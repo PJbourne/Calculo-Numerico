{
 "cells": [
  {
<<<<<<< HEAD
=======
   "cell_type": "markdown",
   "metadata": {},
   "source": [
    "<img src=\"https://i.imgur.com/olPPiRS.jpg\" alt=\"Texto alternativo da imagem\" style=\"float:left; margin-right:10px;\" />\n",
    "\n",
    "<h3 style=\"margin-left:150px; margin-right:10px;\"> Instituto Federal de Educação, Ciência e Tecnologia de Minas Gerais\n",
    "Campus Ibirité<h3>\n",
    "\n",
    "<br></br>\n",
    "* Autor: Pablo Teodoro Monteiro \n",
    "> Engenharia de Controle e Automação - IFMG\n",
    ">> Cálculo Numérico\n",
    ">>> Atividade 04"
   ]
  },
  {
>>>>>>> 6c651c2adafbddc741df2b34e5200627ac96d421
   "cell_type": "code",
   "execution_count": 19,
   "metadata": {},
   "outputs": [
    {
     "data": {
      "text/plain": [
       "0.9084389501770702"
      ]
     },
     "execution_count": 19,
     "metadata": {},
     "output_type": "execute_result"
    }
   ],
   "source": [
    "#1 - Encontrar raiz p/ as eqns. Considerar 'intermax = 100' e 'tol = 10e-6' e aprox de cada item\n",
    "import math as m\n",
    "\n",
    "funcoes = [\n",
    "    lambda x: 4 * m.cos(x) - m.exp(x),\n",
    "    lambda x: m.sqrt(x) - 5 * m.exp(-x),\n",
    "    lambda x: m.log(x-1) + m.cos(x-1),\n",
    "    lambda x: m.exp(x) + 2**(-x) + 2*m.cos(x) - 6,\n",
    "    lambda x: 3**(3*x + 1) - 7 * 5**(2*x)\n",
    "]\n",
    "derivadas = [\n",
    "    lambda x: 4 * -(m.sin(x)) - m.exp(x),\n",
    "    lambda x: 0.5 * (1/m.sqrt(x)) + 5 * m.exp(-x),\n",
    "    lambda x: (x-1)**-1 - m.sin(x-1),\n",
    "    lambda x: m.exp(x) - 2**(-x)*m.log(2) - 2*m.sin(x),\n",
    "    lambda x: (3**(3*x + 1))*(m.log(3))*3 - 7 * (5**(2*x))*m.log(5)*2\n",
    "]\n",
    "\n",
    "x0 = [1, 1, 1.5, 1, 10]\n",
    "tol = 10e-6\n",
    "inter = 100\n",
    "\n",
    "def methodNewton(funcoes, derivadas, x0, tol, inter):\n",
    "    for p in range(len(x0)):\n",
    "    #Loop para percorrer todas as eqns.\n",
    "        i = 1\n",
    "        n = x0[p]\n",
    "        while i <= inter:\n",
    "            x = n - funcoes[p](n)/derivadas[p](n)\n",
    "            if(x - n < tol):\n",
    "                return x\n",
    "                break\n",
    "            i += 1\n",
    "            n = x\n",
    "        print(\" Para a equação: {n} o método falhou após: {inter} interações\")\n",
    "\n",
    "methodNewton(funcoes, derivadas, x0, tol, inter)"
   ]
  },
  {
   "cell_type": "code",
<<<<<<< HEAD
   "execution_count": 21,
=======
   "execution_count": 29,
>>>>>>> 6c651c2adafbddc741df2b34e5200627ac96d421
   "metadata": {},
   "outputs": [
    {
     "name": "stdout",
     "output_type": "stream",
     "text": [
<<<<<<< HEAD
      "Para a equação 5 o método falhou após 100 interações\n",
      "[0.9047882178880454, 1.4304450889896851, 1.3977484759580519, 1.829383601933849]\n"
=======
      "Interações: 3\n",
      "Interações: 4\n",
      "Interações: 4\n",
      "Interações: 8\n",
      "Para a equação 5 o método falhou após 100 interações\n",
      "[0.9047882178880454, 1.4304450889896851, 1.3977484759580519, 1.8293836019338487]\n"
>>>>>>> 6c651c2adafbddc741df2b34e5200627ac96d421
     ]
    }
   ],
   "source": [
    "#1 - Encontrar raiz p/ as eqns. Considerar 'intermax = 100' e 'tol = 10e-6' e aprox de cada item\n",
    "import math as m\n",
    "\n",
    "funcoes = [\n",
    "    lambda x: 4 * m.cos(x) - m.exp(x),\n",
    "    lambda x: m.sqrt(x) - 5 * m.exp(-x),\n",
    "    lambda x: m.log(x-1) + m.cos(x-1),\n",
    "    lambda x: m.exp(x) + 2**(-x) + 2*m.cos(x) - 6,\n",
    "    lambda x: 3**(3*x + 1) - 7 * 5**(2*x)\n",
    "]\n",
    "derivadas = [\n",
    "    lambda x: -4 * m.sin(x) - m.exp(x),\n",
    "    lambda x: 0.5 * (1/m.sqrt(x)) + 5 * m.exp(-x),\n",
    "    lambda x: 1/(x-1) - m.sin(x-1),\n",
    "    lambda x: m.exp(x) - 2**(-x)*m.log(2) - 2*m.sin(x),\n",
    "    lambda x: 3**(3*x + 1) * m.log(3) * 9 - 7 * 5**(2*x) * m.log(5) * 2\n",
    "]\n",
    "\n",
    "x0 = [1, 1, 1.5, 1, 10]\n",
    "tol = 10e-6\n",
    "inter = 100\n",
    "\n",
    "def methodNewton(funcoes, derivadas, x0, tol, inter):\n",
    "    roots = []\n",
    "    for p in range(len(x0)):\n",
    "        #Loop para percorrer todas as eqns.\n",
    "        i = 1\n",
    "        n = x0[p]\n",
    "        while i <= inter:\n",
    "            x = n - funcoes[p](n)/derivadas[p](n)\n",
    "            if abs(x - n) < tol:\n",
    "                roots.append(x)\n",
<<<<<<< HEAD
=======
    "                print(f'Interações: {i}')\n",
>>>>>>> 6c651c2adafbddc741df2b34e5200627ac96d421
    "                break\n",
    "            i += 1\n",
    "            n = x\n",
    "        else:\n",
    "            print(f\"Para a equação {p+1} o método falhou após {inter} interações\")\n",
    "    return roots\n",
    "\n",
    "print(methodNewton(funcoes, derivadas, x0, tol, inter))"
   ]
  },
  {
   "cell_type": "code",
<<<<<<< HEAD
   "execution_count": 1,
=======
   "execution_count": 25,
>>>>>>> 6c651c2adafbddc741df2b34e5200627ac96d421
   "metadata": {},
   "outputs": [
    {
     "name": "stdout",
     "output_type": "stream",
     "text": [
      "A quantidade a ser administrada é 0.906094 unidades de medicação.\n",
<<<<<<< HEAD
      "A concentração de 0.25mg/ml ocorrerá após 11 horas e 4 minutos da injeção.\n"
=======
      "A concentração de 0.25mg/ml ocorrerá após 11 horas e 4 minutos da injeção.\n",
      "\n",
      "Na primeira dose foi aplicado 0.906 unidades de medicação, e o pico de concentração no sangue ocorreu após 3 horas.\n",
      "A segunda dose foi aplicada após 11 horas e 4 minutos da 1ª dose, momento em que a concentração era de 0.25mg/ml.\n",
      "Na 2ª dose foi aplicado 0.68 de unidades de medicação e após 10 horas e 9 min dessa aplicação a concentração tornou a ser 0.25mg/m.\n"
>>>>>>> 6c651c2adafbddc741df2b34e5200627ac96d421
     ]
    }
   ],
   "source": [
    "#2 - \n",
    "import math as m\n",
    "#funcao concentracao\n",
    "\n",
    "#-------------------------------------------------------------------------------------------------------------\n",
    "#a Qual a quantidade (A em unidades de injeção) p/ concentracao max seja alncançada\n",
    "\n",
    "# c(t) = A*t*m.exp(-t/3)\n",
    "# A concentração máxima é 1mg/ml. Portanto, 1 = A*t*m.exp(-t/3).\n",
    "# Ao mesmo tempo a concentração máxima graficamente é o \"pico\" de uma curva. Portanto c'(t) = 0.\n",
    "#i   - derivamos A*t*m.exp(-t/3)....\n",
    "#ii  - Para c'(t) = 0, t = 3.\n",
    "# Portanto a concentração é máxima para t = 3, independente da quantidade A injetada.\n",
    "# Substituindo t = 3 em c(t), temos:\n",
    "# 1 = A * (3) * m.exp( -(3)/3 )\n",
    "# 1 = A * (3) * m.exp(-1)\n",
    "# m.exp(1) = A * (3)\n",
    "# A = m.exp(1)/3\n",
    "\n",
    "A = m.exp(1)/3\n",
    "print(f'A quantidade a ser administrada é {A:.6} unidades de medicação.')\n",
    "# A = 0.9060939428196817\n",
    "\n",
    "# Sabendo A em unidades, c(t) = (m.exp(1)/3) * t * m.exp(-t / 3)\n",
    "# Rearranjando:\n",
    "# c(t) = (t * m.exp((-t + 3)/3)) / 3\n",
    "#def c(t):\n",
    "#    return (t * m.exp((-t + 3)/3)) / 3\n",
    "\n",
    "\n",
    "def dc(t, A):\n",
    "    return A*m.exp(-t/3)*(1 - t / 3)\n",
    "\n",
    "def c(t, A):\n",
<<<<<<< HEAD
    "    return A*t*m.exp(-t/3) - 0.25\n",
=======
    "    return A*t*m.exp(-t/3) - 0.25 #equacao da concetracao quando c(t)=0.25\n",
>>>>>>> 6c651c2adafbddc741df2b34e5200627ac96d421
    "\n",
    "#Aplicação metodo de Newton para resolução do problema B [quando c(t) = 0.25]\n",
    "\n",
    "n = 4 #valor inicial\n",
    "tol = 10e-6\n",
    "inter = 100\n",
    "\n",
    "def methodNewton(c, dc, n, A, tol, inter):\n",
    "#Loop para percorrer todas as eqns.\n",
    "    i = 1\n",
    "    while i <= inter:\n",
    "        #print(f'c(t) = {c(n, A)}')\n",
    "        #print(f'dc(t) = {dc(n, A)}')\n",
    "        #print(f'n = {n, A}')\n",
    "        x = n - c(n,A)/dc(n,A)\n",
    "        if(abs(x - n) < tol):\n",
    "            return x\n",
    "            break\n",
    "        i += 1\n",
    "        n = x\n",
    "    print(f' Para a equação o método falhou após: {inter} interações')\n",
    "\n",
    "horas_corrente = methodNewton(c, dc, n, A, tol, inter)\n",
    "horas = int(horas_corrente)\n",
    "minutos = int((horas_corrente - horas)*60)\n",
    "\n",
    "print(f'A concentração de 0.25mg/ml ocorrerá após {horas} horas e {minutos} minutos da injeção.')\n",
    "\n",
    "# Resolução ultimo item.\n",
<<<<<<< HEAD
=======
    "def newc(t, A):\n",
    "    return A*t*m.exp(-t/3) + 0.75*A*(t - horas_corrente)*m.exp((-t + horas_corrente)/3) - 0.25 # nova equacao da concetracao quando c(t)=0.25\n",
    "\n",
    "def newdc(t, A):\n",
    "    return A*m.exp(-t/3)*(1 - t / 3) - (0.75*A*m.exp(-t/3)*(t + t*m.exp(horas_corrente/3)))/3 + 0.75*A*m.exp(-t/3)*(1 + m.exp(horas_corrente/3) + horas_corrente)\n",
    "\n",
    "\n",
    "terceiraDose = methodNewton(newc, newdc, horas_corrente+1, A, tol, inter)\n",
    "segundaDose = horas_corrente\n",
    "\n",
    "horas2 = int(terceiraDose)\n",
    "minutos2 = int((terceiraDose - horas2)*60)\n",
    "\n",
    "difTempoDoses = terceiraDose-segundaDose\n",
    "\n",
    "horasDif = int(difTempoDoses)\n",
    "minutosDif = int((difTempoDoses - horasDif)*60)\n",
    "\n",
    "print(f'\\nNa primeira dose foi aplicado {A:.3} unidades de medicação, e o pico de concentração no sangue ocorreu após 3 horas.')\n",
    "print(f'A segunda dose foi aplicada após {horas} horas e {minutos} minutos da 1ª dose, momento em que a concentração era de 0.25mg/ml.')\n",
    "print(f'Na 2ª dose foi aplicado {(0.75*A):.3} de unidades de medicação e após {(horasDif)} horas e {(minutosDif)} min dessa aplicação a concentração tornou a ser 0.25mg/m.')\n",
>>>>>>> 6c651c2adafbddc741df2b34e5200627ac96d421
    "\n"
   ]
  },
  {
   "cell_type": "code",
   "execution_count": null,
   "metadata": {},
   "outputs": [],
   "source": []
  }
 ],
 "metadata": {
  "kernelspec": {
<<<<<<< HEAD
   "display_name": "Python 3",
=======
   "display_name": "Python 3.8.10 64-bit (microsoft store)",
>>>>>>> 6c651c2adafbddc741df2b34e5200627ac96d421
   "language": "python",
   "name": "python3"
  },
  "language_info": {
   "codemirror_mode": {
    "name": "ipython",
    "version": 3
   },
   "file_extension": ".py",
   "mimetype": "text/x-python",
   "name": "python",
   "nbconvert_exporter": "python",
   "pygments_lexer": "ipython3",
<<<<<<< HEAD
   "version": "3.11.2"
=======
   "version": "3.8.10"
>>>>>>> 6c651c2adafbddc741df2b34e5200627ac96d421
  },
  "orig_nbformat": 4,
  "vscode": {
   "interpreter": {
<<<<<<< HEAD
    "hash": "fe63ce0d9c5a16ce7f34f935fc8b388f4e70f777eb663b067e5283ddd74ba6cf"
=======
    "hash": "e878f5ea1dc6537e8881c059c49c03feae4eb79102da35a3d988dd0c2658183e"
>>>>>>> 6c651c2adafbddc741df2b34e5200627ac96d421
   }
  }
 },
 "nbformat": 4,
 "nbformat_minor": 2
}
