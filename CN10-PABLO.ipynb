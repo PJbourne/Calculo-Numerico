{
 "cells": [
  {
   "attachments": {},
   "cell_type": "markdown",
   "metadata": {},
   "source": [
    "<img src=\"https://i.imgur.com/olPPiRS.jpg\" alt=\"Texto alternativo da imagem\" style=\"float:left; margin-right:10px;\" />\n",
    "\n",
    "<h3 style=\"margin-left:150px; margin-right:10px;\"> Instituto Federal de Educação, Ciência e Tecnologia de Minas Gerais\n",
    "Campus Ibirité<h3>\n",
    "\n",
    "<br></br>\n",
    "* Autor: Pablo Teodoro Monteiro \n",
    "> Engenharia de Controle e Automação - IFMG\n",
    ">> Cálculo Numérico\n",
    ">>> Atividade 10"
   ]
  },
  {
   "cell_type": "code",
   "execution_count": 3,
   "metadata": {},
   "outputs": [],
   "source": [
    "#1\n",
    "import math as m\n",
    "import numpy as np\n",
    "import pandas as pd\n",
    "import matplotlib as plt"
   ]
  },
  {
   "cell_type": "code",
   "execution_count": null,
   "metadata": {},
   "outputs": [],
   "source": []
  }
 ],
 "metadata": {
  "kernelspec": {
   "display_name": "Python 3",
   "language": "python",
   "name": "python3"
  },
  "language_info": {
   "codemirror_mode": {
    "name": "ipython",
    "version": 3
   },
   "file_extension": ".py",
   "mimetype": "text/x-python",
   "name": "python",
   "nbconvert_exporter": "python",
   "pygments_lexer": "ipython3",
   "version": "3.11.3"
  },
  "orig_nbformat": 4
 },
 "nbformat": 4,
 "nbformat_minor": 2
}
