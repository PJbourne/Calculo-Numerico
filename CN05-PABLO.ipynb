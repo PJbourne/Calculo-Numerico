{
 "cells": [
  {
   "cell_type": "code",
   "execution_count": 19,
   "metadata": {},
   "outputs": [
    {
     "data": {
      "text/plain": [
       "0.9084389501770702"
      ]
     },
     "execution_count": 19,
     "metadata": {},
     "output_type": "execute_result"
    }
   ],
   "source": [
    "#1 - Encontrar raiz p/ as eqns. Considerar 'intermax = 100' e 'tol = 10e-6' e aprox de cada item\n",
    "import math as m\n",
    "\n",
    "funcoes = [\n",
    "    lambda x: 4 * m.cos(x) - m.exp(x),\n",
    "    lambda x: m.sqrt(x) - 5 * m.exp(-x),\n",
    "    lambda x: m.log(x-1) + m.cos(x-1),\n",
    "    lambda x: m.exp(x) + 2**(-x) + 2*m.cos(x) - 6,\n",
    "    lambda x: 3**(3*x + 1) - 7 * 5**(2*x)\n",
    "]\n",
    "derivadas = [\n",
    "    lambda x: 4 * -(m.sin(x)) - m.exp(x),\n",
    "    lambda x: 0.5 * (1/m.sqrt(x)) + 5 * m.exp(-x),\n",
    "    lambda x: (x-1)**-1 - m.sin(x-1),\n",
    "    lambda x: m.exp(x) - 2**(-x)*m.log(2) - 2*m.sin(x),\n",
    "    lambda x: (3**(3*x + 1))*(m.log(3))*3 - 7 * (5**(2*x))*m.log(5)*2\n",
    "]\n",
    "\n",
    "x0 = [1, 1, 1.5, 1, 10]\n",
    "tol = 10e-6\n",
    "inter = 100\n",
    "\n",
    "def methodNewton(funcoes, derivadas, x0, tol, inter):\n",
    "    for p in range(len(x0)):\n",
    "    #Loop para percorrer todas as eqns.\n",
    "        i = 1\n",
    "        n = x0[p]\n",
    "        while i <= inter:\n",
    "            x = n - funcoes[p](n)/derivadas[p](n)\n",
    "            if(x - n < tol):\n",
    "                return x\n",
    "                break\n",
    "            i += 1\n",
    "            n = x\n",
    "        print(\" Para a equação: {n} o método falhou após: {inter} interações\")\n",
    "\n",
    "methodNewton(funcoes, derivadas, x0, tol, inter)"
   ]
  },
  {
   "cell_type": "code",
   "execution_count": 21,
   "metadata": {},
   "outputs": [
    {
     "name": "stdout",
     "output_type": "stream",
     "text": [
      "Para a equação 5 o método falhou após 100 interações\n",
      "[0.9047882178880454, 1.4304450889896851, 1.3977484759580519, 1.829383601933849]\n"
     ]
    }
   ],
   "source": [
    "#1 - Encontrar raiz p/ as eqns. Considerar 'intermax = 100' e 'tol = 10e-6' e aprox de cada item\n",
    "import math as m\n",
    "\n",
    "funcoes = [\n",
    "    lambda x: 4 * m.cos(x) - m.exp(x),\n",
    "    lambda x: m.sqrt(x) - 5 * m.exp(-x),\n",
    "    lambda x: m.log(x-1) + m.cos(x-1),\n",
    "    lambda x: m.exp(x) + 2**(-x) + 2*m.cos(x) - 6,\n",
    "    lambda x: 3**(3*x + 1) - 7 * 5**(2*x)\n",
    "]\n",
    "derivadas = [\n",
    "    lambda x: -4 * m.sin(x) - m.exp(x),\n",
    "    lambda x: 0.5 * (1/m.sqrt(x)) + 5 * m.exp(-x),\n",
    "    lambda x: 1/(x-1) - m.sin(x-1),\n",
    "    lambda x: m.exp(x) - 2**(-x)*m.log(2) - 2*m.sin(x),\n",
    "    lambda x: 3**(3*x + 1) * m.log(3) * 9 - 7 * 5**(2*x) * m.log(5) * 2\n",
    "]\n",
    "\n",
    "x0 = [1, 1, 1.5, 1, 10]\n",
    "tol = 10e-6\n",
    "inter = 100\n",
    "\n",
    "def methodNewton(funcoes, derivadas, x0, tol, inter):\n",
    "    roots = []\n",
    "    for p in range(len(x0)):\n",
    "        #Loop para percorrer todas as eqns.\n",
    "        i = 1\n",
    "        n = x0[p]\n",
    "        while i <= inter:\n",
    "            x = n - funcoes[p](n)/derivadas[p](n)\n",
    "            if abs(x - n) < tol:\n",
    "                roots.append(x)\n",
    "                break\n",
    "            i += 1\n",
    "            n = x\n",
    "        else:\n",
    "            print(f\"Para a equação {p+1} o método falhou após {inter} interações\")\n",
    "    return roots\n",
    "\n",
    "print(methodNewton(funcoes, derivadas, x0, tol, inter))"
   ]
  },
  {
   "cell_type": "code",
   "execution_count": 2,
   "metadata": {},
   "outputs": [
    {
     "name": "stdout",
     "output_type": "stream",
     "text": [
      "c(t) = 4.414553294057308\n"
     ]
    },
    {
     "ename": "NameError",
     "evalue": "name 'A' is not defined",
     "output_type": "error",
     "traceback": [
      "\u001b[1;31m---------------------------------------------------------------------------\u001b[0m",
      "\u001b[1;31mNameError\u001b[0m                                 Traceback (most recent call last)",
      "Cell \u001b[1;32mIn[2], line 35\u001b[0m\n\u001b[0;32m     32\u001b[0m         n \u001b[39m=\u001b[39m x\n\u001b[0;32m     33\u001b[0m     \u001b[39mprint\u001b[39m(\u001b[39mf\u001b[39m\u001b[39m\"\u001b[39m\u001b[39m Para a equação o método falhou após: \u001b[39m\u001b[39m{\u001b[39;00minter\u001b[39m}\u001b[39;00m\u001b[39m interações\u001b[39m\u001b[39m\"\u001b[39m)\n\u001b[1;32m---> 35\u001b[0m methodNewton(c, dc, n, tol, inter)\n",
      "Cell \u001b[1;32mIn[2], line 25\u001b[0m, in \u001b[0;36mmethodNewton\u001b[1;34m(c, dc, n, tol, inter)\u001b[0m\n\u001b[0;32m     23\u001b[0m \u001b[39mwhile\u001b[39;00m i \u001b[39m<\u001b[39m\u001b[39m=\u001b[39m inter:\n\u001b[0;32m     24\u001b[0m     \u001b[39mprint\u001b[39m(\u001b[39mf\u001b[39m\u001b[39m'\u001b[39m\u001b[39mc(t) = \u001b[39m\u001b[39m{\u001b[39;00mc(n)\u001b[39m}\u001b[39;00m\u001b[39m'\u001b[39m)\n\u001b[1;32m---> 25\u001b[0m     \u001b[39mprint\u001b[39m(\u001b[39mf\u001b[39m\u001b[39m'\u001b[39m\u001b[39mdc(t) = \u001b[39m\u001b[39m{\u001b[39;00mdc(n)\u001b[39m}\u001b[39;00m\u001b[39m'\u001b[39m)\n\u001b[0;32m     26\u001b[0m     \u001b[39mprint\u001b[39m(\u001b[39mf\u001b[39m\u001b[39m'\u001b[39m\u001b[39mn = \u001b[39m\u001b[39m{\u001b[39;00mn\u001b[39m}\u001b[39;00m\u001b[39m'\u001b[39m)\n\u001b[0;32m     27\u001b[0m     x \u001b[39m=\u001b[39m n \u001b[39m-\u001b[39m c(n)\u001b[39m/\u001b[39mdc(n)\n",
      "Cell \u001b[1;32mIn[2], line 8\u001b[0m, in \u001b[0;36mdc\u001b[1;34m(t)\u001b[0m\n\u001b[0;32m      7\u001b[0m \u001b[39mdef\u001b[39;00m \u001b[39mdc\u001b[39m(t):\n\u001b[1;32m----> 8\u001b[0m     \u001b[39mreturn\u001b[39;00m A\u001b[39m*\u001b[39mm\u001b[39m.\u001b[39mexp(\u001b[39m-\u001b[39mt\u001b[39m/\u001b[39m\u001b[39m3\u001b[39m)\u001b[39m*\u001b[39m(\u001b[39m1\u001b[39m \u001b[39m-\u001b[39m t \u001b[39m/\u001b[39m \u001b[39m3\u001b[39m)\n",
      "\u001b[1;31mNameError\u001b[0m: name 'A' is not defined"
     ]
    }
   ],
   "source": [
    "#2 - \n",
    "import math as m\n",
    "#funcao concentracao\n",
    "def c(t):\n",
    "    return 3*t*m.exp(-t/4)\n",
    "\n",
    "def dc(t):\n",
    "    return A*m.exp(-t/3)*(1 - t / 3)\n",
    "\n",
    "#a Qual a quantidade (A em unidades de injeção) p/ concentracao max seja alncançada\n",
    "# c(t) = A*t*m.exp(-t/3)\n",
    "#i   - derivamos A*t*m.exp(-t/3)....\n",
    "#ii  - Para c'(t) = 0, t = 3.\n",
    "#iii A = m.e / 3 [pata t = 3 e c(t) = 1]\n",
    "\n",
    "n = 4 #valor inicial\n",
    "tol = 10e-6\n",
    "inter = 100\n",
    "\n",
    "def methodNewton(c, dc, n, tol, inter):\n",
    "#Loop para percorrer todas as eqns.\n",
    "    i = 1\n",
    "    while i <= inter:\n",
    "        print(f'c(t) = {c(n)}')\n",
    "        print(f'dc(t) = {dc(n)}')\n",
    "        print(f'n = {n}')\n",
    "        x = n - c(n)/dc(n)\n",
    "        if(x - n < tol):\n",
    "            return x\n",
    "            break\n",
    "        i += 1\n",
    "        n = x\n",
    "    print(f\" Para a equação o método falhou após: {inter} interações\")\n",
    "\n",
    "methodNewton(c, dc, n, tol, inter)"
   ]
  }
 ],
 "metadata": {
  "kernelspec": {
   "display_name": "Python 3",
   "language": "python",
   "name": "python3"
  },
  "language_info": {
   "codemirror_mode": {
    "name": "ipython",
    "version": 3
   },
   "file_extension": ".py",
   "mimetype": "text/x-python",
   "name": "python",
   "nbconvert_exporter": "python",
   "pygments_lexer": "ipython3",
   "version": "3.11.2"
  },
  "orig_nbformat": 4
 },
 "nbformat": 4,
 "nbformat_minor": 2
}
