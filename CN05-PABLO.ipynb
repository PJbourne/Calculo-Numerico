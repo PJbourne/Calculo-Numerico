{
 "cells": [
  {
   "cell_type": "markdown",
   "metadata": {},
   "source": [
    "<img src=\"https://i.imgur.com/olPPiRS.jpg\" alt=\"Texto alternativo da imagem\" style=\"float:left; margin-right:10px;\" />\n",
    "\n",
    "<h3 style=\"margin-left:150px; margin-right:10px;\"> Instituto Federal de Educação, Ciência e Tecnologia de Minas Gerais\n",
    "Campus Ibirité<h3>\n",
    "\n",
    "<br></br>\n",
    "* Autor: Pablo Teodoro Monteiro \n",
    "> Engenharia de Controle e Automação - IFMG\n",
    ">> Cálculo Numérico\n",
    ">>> Atividade 05"
   ]
  },
  {
   "cell_type": "code",
   "execution_count": 45,
   "metadata": {},
   "outputs": [],
   "source": [
    "#1\n",
    "import math as m\n",
    "\n",
    "\n",
    "def secante(funcoes,x0,x1,tol,inter):\n",
    "    for p in range(len(x0)):\n",
    "        #Loop para percorrer todas as eqns.\n",
    "        i = 2\n",
    "        n = x0[p]\n",
    "        fx0 = funcoes[p](x0[p])\n",
    "        fx1 = funcoes[p](x1[p])\n",
    "        while i <= inter:\n",
    "            x = x1[p] - (fx1 * (x1[p] - x0[p])) / (fx1 - fx0)\n",
    "            resultado = (x + x1[p]) / 2\n",
    "            if (abs(x - x1[p]) < tol):\n",
    "                print(f'Resultado: {resultado}; Interação: {i}')\n",
    "                break\n",
    "            else:\n",
    "                i += 1\n",
    "                x0[p] = x1[p]\n",
    "                fx0 = fx1\n",
    "                x1[p] = x\n",
    "                fx1 = funcoes[p](x)\n",
    "        print(f\"Para a equação {p+1} o método falhou após {inter} interações\")"
   ]
  },
  {
   "cell_type": "code",
   "execution_count": 46,
   "metadata": {},
   "outputs": [
    {
     "name": "stdout",
     "output_type": "stream",
     "text": [
      "Resultado: 0.9047901036964697; Interação: 6\n",
      "Para a equação 1 o método falhou após 100 interações\n",
      "Resultado: 1.4304450864514031; Interação: 7\n",
      "Para a equação 2 o método falhou após 100 interações\n"
     ]
    },
    {
     "ename": "ValueError",
     "evalue": "math domain error",
     "output_type": "error",
     "traceback": [
      "\u001b[1;31m---------------------------------------------------------------------------\u001b[0m",
      "\u001b[1;31mValueError\u001b[0m                                Traceback (most recent call last)",
      "Cell \u001b[1;32mIn [46], line 16\u001b[0m\n\u001b[0;32m     14\u001b[0m tol \u001b[39m=\u001b[39m \u001b[39m10e-6\u001b[39m\n\u001b[0;32m     15\u001b[0m inter \u001b[39m=\u001b[39m \u001b[39m100\u001b[39m\n\u001b[1;32m---> 16\u001b[0m secante(funcoes, x0, x1, tol, inter)\n",
      "Cell \u001b[1;32mIn [45], line 9\u001b[0m, in \u001b[0;36msecante\u001b[1;34m(funcoes, x0, x1, tol, inter)\u001b[0m\n\u001b[0;32m      7\u001b[0m i \u001b[39m=\u001b[39m \u001b[39m2\u001b[39m\n\u001b[0;32m      8\u001b[0m n \u001b[39m=\u001b[39m x0[p]\n\u001b[1;32m----> 9\u001b[0m fx0 \u001b[39m=\u001b[39m funcoes[p](x0[p])\n\u001b[0;32m     10\u001b[0m fx1 \u001b[39m=\u001b[39m funcoes[p](x1[p])\n\u001b[0;32m     11\u001b[0m \u001b[39mwhile\u001b[39;00m i \u001b[39m<\u001b[39m\u001b[39m=\u001b[39m inter:\n",
      "Cell \u001b[1;32mIn [46], line 7\u001b[0m, in \u001b[0;36m<lambda>\u001b[1;34m(x)\u001b[0m\n\u001b[0;32m      1\u001b[0m \u001b[39m#2 - Encontrar raiz p/ as eqns da lista 4. Considerar 'intermax = 100' e 'tol = 10e-6' e aprox de cada item\u001b[39;00m\n\u001b[0;32m      2\u001b[0m \u001b[39mimport\u001b[39;00m \u001b[39mmath\u001b[39;00m \u001b[39mas\u001b[39;00m \u001b[39mm\u001b[39;00m\n\u001b[0;32m      4\u001b[0m funcoes \u001b[39m=\u001b[39m [\n\u001b[0;32m      5\u001b[0m     \u001b[39mlambda\u001b[39;00m x: \u001b[39m4\u001b[39m \u001b[39m*\u001b[39m m\u001b[39m.\u001b[39mcos(x) \u001b[39m-\u001b[39m m\u001b[39m.\u001b[39mexp(x),\n\u001b[0;32m      6\u001b[0m     \u001b[39mlambda\u001b[39;00m x: m\u001b[39m.\u001b[39msqrt(x) \u001b[39m-\u001b[39m \u001b[39m5\u001b[39m \u001b[39m*\u001b[39m m\u001b[39m.\u001b[39mexp(\u001b[39m-\u001b[39mx),\n\u001b[1;32m----> 7\u001b[0m     \u001b[39mlambda\u001b[39;00m x: m\u001b[39m.\u001b[39;49mlog(x\u001b[39m-\u001b[39;49m\u001b[39m1\u001b[39;49m) \u001b[39m+\u001b[39m m\u001b[39m.\u001b[39mcos(x\u001b[39m-\u001b[39m\u001b[39m1\u001b[39m),\n\u001b[0;32m      8\u001b[0m     \u001b[39mlambda\u001b[39;00m x: m\u001b[39m.\u001b[39mexp(x) \u001b[39m+\u001b[39m \u001b[39m2\u001b[39m\u001b[39m*\u001b[39m\u001b[39m*\u001b[39m(\u001b[39m-\u001b[39mx) \u001b[39m+\u001b[39m \u001b[39m2\u001b[39m\u001b[39m*\u001b[39mm\u001b[39m.\u001b[39mcos(x) \u001b[39m-\u001b[39m \u001b[39m6\u001b[39m,\n\u001b[0;32m      9\u001b[0m     \u001b[39mlambda\u001b[39;00m x: \u001b[39m3\u001b[39m\u001b[39m*\u001b[39m\u001b[39m*\u001b[39m(\u001b[39m3\u001b[39m\u001b[39m*\u001b[39mx \u001b[39m+\u001b[39m \u001b[39m1\u001b[39m) \u001b[39m-\u001b[39m \u001b[39m7\u001b[39m \u001b[39m*\u001b[39m \u001b[39m5\u001b[39m\u001b[39m*\u001b[39m\u001b[39m*\u001b[39m(\u001b[39m2\u001b[39m\u001b[39m*\u001b[39mx)\n\u001b[0;32m     10\u001b[0m ]\n\u001b[0;32m     12\u001b[0m x0 \u001b[39m=\u001b[39m [\u001b[39m1.1\u001b[39m, \u001b[39m1\u001b[39m, \u001b[39m1\u001b[39m, \u001b[39m1\u001b[39m, \u001b[39m10\u001b[39m]\u001b[39m#number 1 alterado para 1.1 e num 3 alterado de 1.5 para 1\u001b[39;00m\n\u001b[0;32m     13\u001b[0m x1 \u001b[39m=\u001b[39m [\u001b[39m2\u001b[39m, \u001b[39m2\u001b[39m, \u001b[39m3\u001b[39m, \u001b[39m2\u001b[39m, \u001b[39m11\u001b[39m]\n",
      "\u001b[1;31mValueError\u001b[0m: math domain error"
     ]
    }
   ],
   "source": [
    "#2 - Encontrar raiz p/ as eqns da lista 4. Considerar 'intermax = 100' e 'tol = 10e-6' e aprox de cada item\n",
    "import math as m\n",
    "\n",
    "funcoes = [\n",
    "    lambda x: 4 * m.cos(x) - m.exp(x),\n",
    "    lambda x: m.sqrt(x) - 5 * m.exp(-x),\n",
    "    lambda x: m.log(x-1) + m.cos(x-1),\n",
    "    lambda x: m.exp(x) + 2**(-x) + 2*m.cos(x) - 6,\n",
    "    lambda x: 3**(3*x + 1) - 7 * 5**(2*x)\n",
    "]\n",
    "\n",
    "x0 = [1.1, 1, 1, 1, 10]#number 1 alterado para 1.1 e num 3 alterado de 1.5 para 1\n",
    "x1 = [2, 2, 3, 2, 11]\n",
    "tol = 10e-6\n",
    "inter = 100\n",
    "secante(funcoes, x0, x1, tol, inter)\n",
    "\n",
    "#3 após comparar os métodos da secante e da bisseção constato que o método da bisseção é mais eficiente\n"
   ]
  },
  {
   "cell_type": "code",
   "execution_count": null,
   "metadata": {},
   "outputs": [],
   "source": []
  }
 ],
 "metadata": {
  "kernelspec": {
   "display_name": "Python 3.8.10 64-bit (microsoft store)",
   "language": "python",
   "name": "python3"
  },
  "language_info": {
   "codemirror_mode": {
    "name": "ipython",
    "version": 3
   },
   "file_extension": ".py",
   "mimetype": "text/x-python",
   "name": "python",
   "nbconvert_exporter": "python",
   "pygments_lexer": "ipython3",
   "version": "3.8.10"
  },
  "orig_nbformat": 4,
  "vscode": {
   "interpreter": {
    "hash": "e878f5ea1dc6537e8881c059c49c03feae4eb79102da35a3d988dd0c2658183e"
   }
  }
 },
 "nbformat": 4,
 "nbformat_minor": 2
}
